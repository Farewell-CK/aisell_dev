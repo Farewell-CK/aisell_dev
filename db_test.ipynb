{
 "cells": [
  {
   "cell_type": "code",
   "execution_count": 1,
   "id": "1d0d83e5",
   "metadata": {},
   "outputs": [],
   "source": [
    "# 导入必要的库\n",
    "import pymysql\n",
    "import logging\n",
    "import pandas as pd\n",
    "from IPython.display import display, HTML\n",
    "\n",
    "# 数据库连接配置\n",
    "db_config = {\n",
    "    'host': '120.77.8.73',\n",
    "    'port': 9010,\n",
    "    'user': 'root',\n",
    "    'password': 'sale159753',\n",
    "    'database': 'sale',\n",
    "    'charset': 'utf8mb4'\n",
    "}"
   ]
  },
  {
   "cell_type": "code",
   "execution_count": 8,
   "id": "79e91f7b",
   "metadata": {},
   "outputs": [],
   "source": [
    "# 设置日志记录\n",
    "logging.basicConfig(level=logging.INFO, format='%(asctime)s - %(levelname)s - %(message)s')"
   ]
  },
  {
   "cell_type": "code",
   "execution_count": null,
   "id": "004b7272",
   "metadata": {},
   "outputs": [],
   "source": [
    "# 测试数据库连接\n",
    "try:\n",
    "    conn = pymysql.connect(**db_config)\n",
    "    logging.info(\"数据库连接成功！\")\n",
    "    \n",
    "    # 创建游标对象\n",
    "    cursor = conn.cursor()\n",
    "    \n",
    "    # 获取所有表名\n",
    "    cursor.execute(\"SHOW TABLES\")\n",
    "    tables = cursor.fetchall()\n",
    "    \n",
    "    logging.info(\"数据库中的表：\")\n",
    "    tables_name = []\n",
    "    for table in tables:\n",
    "        logging.info(f\"- {table[0]}\")\n",
    "        tables_name.append(table[0])\n",
    "    logging.info(\"表名获取成功！共有 %d 个表。\" % len(tables))\n",
    "except Exception as e:\n",
    "    logging.error(f\"连接失败：{str(e)}\")\n",
    "finally:\n",
    "    if 'conn' in locals():\n",
    "        conn.close()"
   ]
  },
  {
   "cell_type": "code",
   "execution_count": 4,
   "id": "895064f2",
   "metadata": {},
   "outputs": [],
   "source": [
    "from tools.database import DatabaseManager, DatabaseConnector"
   ]
  },
  {
   "cell_type": "code",
   "execution_count": 5,
   "id": "95386aa4",
   "metadata": {},
   "outputs": [],
   "source": [
    "DBM = DatabaseManager()\n"
   ]
  },
  {
   "cell_type": "code",
   "execution_count": 6,
   "id": "4a1953bb",
   "metadata": {},
   "outputs": [
    {
     "data": {
      "text/plain": [
       "['sale_ai_data',\n",
       " 'sale_co_chatgroup_wechat',\n",
       " 'sale_co_inform',\n",
       " 'sale_co_inform_wechat',\n",
       " 'sale_co_interventiont',\n",
       " 'sale_collaborate',\n",
       " 'sale_file',\n",
       " 'sale_forbidden',\n",
       " 'sale_knowledge',\n",
       " 'sale_plat_device',\n",
       " 'sale_plat_role',\n",
       " 'sale_plat_tenant',\n",
       " 'sale_plat_user',\n",
       " 'sale_plat_user_role',\n",
       " 'sale_process',\n",
       " 'sale_product',\n",
       " 'sale_product_file',\n",
       " 'sale_role',\n",
       " 'sale_strategy',\n",
       " 'sale_strategy_file',\n",
       " 'sale_strategy_userlog',\n",
       " 'sale_task',\n",
       " 'sale_task_data',\n",
       " 'sale_task_knowledge',\n",
       " 'sale_task_product',\n",
       " 'sale_task_wechat',\n",
       " 'sale_user',\n",
       " 'sale_user_role',\n",
       " 'sale_wechat_account',\n",
       " 'sale_wechat_contact',\n",
       " 'sale_wechat_group_stranger',\n",
       " 'sale_wechat_message',\n",
       " 'sale_wechat_stranger']"
      ]
     },
     "execution_count": 6,
     "metadata": {},
     "output_type": "execute_result"
    }
   ],
   "source": [
    "DBM.get_table_names()"
   ]
  },
  {
   "cell_type": "code",
   "execution_count": 1,
   "id": "abfe21df",
   "metadata": {},
   "outputs": [],
   "source": [
    "import json\n",
    "data = \"\"\"[\"开场白1\", \"开场白2\", \"开场白3\", \"开场白4\", \"开场白5\"]\"\"\"\n",
    "ls = json.loads(data)"
   ]
  },
  {
   "cell_type": "code",
   "execution_count": 3,
   "id": "7cf8e799",
   "metadata": {},
   "outputs": [
    {
     "data": {
      "text/plain": [
       "list"
      ]
     },
     "execution_count": 3,
     "metadata": {},
     "output_type": "execute_result"
    }
   ],
   "source": [
    "type(ls)"
   ]
  },
  {
   "cell_type": "code",
   "execution_count": null,
   "id": "fe71e411",
   "metadata": {},
   "outputs": [],
   "source": []
  }
 ],
 "metadata": {
  "kernelspec": {
   "display_name": "adk",
   "language": "python",
   "name": "python3"
  },
  "language_info": {
   "codemirror_mode": {
    "name": "ipython",
    "version": 3
   },
   "file_extension": ".py",
   "mimetype": "text/x-python",
   "name": "python",
   "nbconvert_exporter": "python",
   "pygments_lexer": "ipython3",
   "version": "3.12.9"
  }
 },
 "nbformat": 4,
 "nbformat_minor": 5
}
