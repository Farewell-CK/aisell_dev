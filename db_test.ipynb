{
 "cells": [
  {
   "cell_type": "code",
   "execution_count": 7,
   "id": "1d0d83e5",
   "metadata": {},
   "outputs": [],
   "source": [
    "# 导入必要的库\n",
    "import pymysql\n",
    "import logging\n",
    "import pandas as pd\n",
    "from IPython.display import display, HTML\n",
    "\n",
    "# 数据库连接配置\n",
    "db_config = {\n",
    "    'host': '120.77.8.73',\n",
    "    'port': 9010,\n",
    "    'user': 'root',\n",
    "    'password': 'sale159753',\n",
    "    'database': 'sale',\n",
    "    'charset': 'utf8mb4'\n",
    "}"
   ]
  },
  {
   "cell_type": "code",
   "execution_count": 8,
   "id": "79e91f7b",
   "metadata": {},
   "outputs": [],
   "source": [
    "# 设置日志记录\n",
    "logging.basicConfig(level=logging.INFO, format='%(asctime)s - %(levelname)s - %(message)s')"
   ]
  },
  {
   "cell_type": "code",
   "execution_count": 11,
   "id": "004b7272",
   "metadata": {},
   "outputs": [
    {
     "name": "stderr",
     "output_type": "stream",
     "text": [
      "2025-06-05 16:38:35,075 - INFO - 数据库连接成功！\n",
      "2025-06-05 16:38:35,115 - INFO - 数据库中的表：\n",
      "2025-06-05 16:38:35,117 - INFO - - sale_ai_data\n",
      "2025-06-05 16:38:35,118 - INFO - - sale_file\n",
      "2025-06-05 16:38:35,118 - INFO - - sale_forbidden\n",
      "2025-06-05 16:38:35,119 - INFO - - sale_knowledge\n",
      "2025-06-05 16:38:35,120 - INFO - - sale_plat_device\n",
      "2025-06-05 16:38:35,121 - INFO - - sale_plat_role\n",
      "2025-06-05 16:38:35,121 - INFO - - sale_plat_tenant\n",
      "2025-06-05 16:38:35,122 - INFO - - sale_plat_user\n",
      "2025-06-05 16:38:35,123 - INFO - - sale_plat_user_role\n",
      "2025-06-05 16:38:35,124 - INFO - - sale_process\n",
      "2025-06-05 16:38:35,124 - INFO - - sale_product\n",
      "2025-06-05 16:38:35,125 - INFO - - sale_product_file\n",
      "2025-06-05 16:38:35,126 - INFO - - sale_role\n",
      "2025-06-05 16:38:35,126 - INFO - - sale_strategy\n",
      "2025-06-05 16:38:35,127 - INFO - - sale_strategy_file\n",
      "2025-06-05 16:38:35,128 - INFO - - sale_strategy_userlog\n",
      "2025-06-05 16:38:35,128 - INFO - - sale_task\n",
      "2025-06-05 16:38:35,129 - INFO - - sale_task_data\n",
      "2025-06-05 16:38:35,129 - INFO - - sale_task_knowledge\n",
      "2025-06-05 16:38:35,130 - INFO - - sale_task_product\n",
      "2025-06-05 16:38:35,131 - INFO - - sale_task_wechat\n",
      "2025-06-05 16:38:35,132 - INFO - - sale_user\n",
      "2025-06-05 16:38:35,133 - INFO - - sale_user_role\n",
      "2025-06-05 16:38:35,134 - INFO - - sale_wechat_account\n",
      "2025-06-05 16:38:35,135 - INFO - - sale_wechat_contact\n",
      "2025-06-05 16:38:35,135 - INFO - - sale_wechat_group_stranger\n",
      "2025-06-05 16:38:35,136 - INFO - - sale_wechat_message\n",
      "2025-06-05 16:38:35,137 - INFO - - sale_wechat_stranger\n",
      "2025-06-05 16:38:35,138 - INFO - 表名获取成功！共有 28 个表。\n"
     ]
    }
   ],
   "source": [
    "# 测试数据库连接\n",
    "try:\n",
    "    conn = pymysql.connect(**db_config)\n",
    "    logging.info(\"数据库连接成功！\")\n",
    "    \n",
    "    # 创建游标对象\n",
    "    cursor = conn.cursor()\n",
    "    \n",
    "    # 获取所有表名\n",
    "    cursor.execute(\"SHOW TABLES\")\n",
    "    tables = cursor.fetchall()\n",
    "    \n",
    "    logging.info(\"数据库中的表：\")\n",
    "    tables_name = []\n",
    "    for table in tables:\n",
    "        logging.info(f\"- {table[0]}\")\n",
    "        tables_name.append(table[0])\n",
    "    logging.info(\"表名获取成功！共有 %d 个表。\" % len(tables))\n",
    "except Exception as e:\n",
    "    logging.error(f\"连接失败：{str(e)}\")\n",
    "finally:\n",
    "    if 'conn' in locals():\n",
    "        conn.close()"
   ]
  },
  {
   "cell_type": "code",
   "execution_count": null,
   "id": "895064f2",
   "metadata": {},
   "outputs": [],
   "source": []
  }
 ],
 "metadata": {
  "kernelspec": {
   "display_name": "adk",
   "language": "python",
   "name": "python3"
  },
  "language_info": {
   "codemirror_mode": {
    "name": "ipython",
    "version": 3
   },
   "file_extension": ".py",
   "mimetype": "text/x-python",
   "name": "python",
   "nbconvert_exporter": "python",
   "pygments_lexer": "ipython3",
   "version": "undefined.undefined.undefined"
  }
 },
 "nbformat": 4,
 "nbformat_minor": 5
}
