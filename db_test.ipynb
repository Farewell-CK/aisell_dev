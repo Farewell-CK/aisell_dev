{
 "cells": [
  {
   "cell_type": "code",
   "execution_count": 1,
   "id": "1d0d83e5",
   "metadata": {},
   "outputs": [],
   "source": [
    "# 导入必要的库\n",
    "import pymysql\n",
    "import pandas as pd\n",
    "from IPython.display import display, HTML\n",
    "\n",
    "# 数据库连接配置\n",
    "db_config = {\n",
    "    'host': '120.77.8.73',\n",
    "    'port': 9010,\n",
    "    'user': 'root',\n",
    "    'password': 'sale159753',\n",
    "    'database': 'sale',\n",
    "    'charset': 'utf8mb4'\n",
    "}"
   ]
  },
  {
   "cell_type": "code",
   "execution_count": null,
   "id": "004b7272",
   "metadata": {},
   "outputs": [],
   "source": [
    "# 测试数据库连接\n",
    "try:\n",
    "    conn = pymysql.connect(**db_config)\n",
    "    print(\"数据库连接成功！\")\n",
    "    \n",
    "    # 创建游标对象\n",
    "    cursor = conn.cursor()\n",
    "    \n",
    "    # 获取所有表名\n",
    "    cursor.execute(\"SHOW TABLES\")\n",
    "    tables = cursor.fetchall()\n",
    "    \n",
    "    print(\"\\n数据库中的表：\")\n",
    "    for table in tables:\n",
    "        print(f\"- {table[0]}\")\n",
    "        \n",
    "except Exception as e:\n",
    "    print(f\"连接失败：{str(e)}\")\n",
    "finally:\n",
    "    if 'conn' in locals():\n",
    "        conn.close()"
   ]
  }
 ],
 "metadata": {
  "kernelspec": {
   "display_name": "adk",
   "language": "python",
   "name": "python3"
  },
  "language_info": {
   "codemirror_mode": {
    "name": "ipython",
    "version": 3
   },
   "file_extension": ".py",
   "mimetype": "text/x-python",
   "name": "python",
   "nbconvert_exporter": "python",
   "pygments_lexer": "ipython3",
   "version": "3.12.9"
  }
 },
 "nbformat": 4,
 "nbformat_minor": 5
}
